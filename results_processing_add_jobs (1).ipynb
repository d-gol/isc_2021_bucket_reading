{
 "cells": [
  {
   "cell_type": "code",
   "execution_count": 1,
   "metadata": {},
   "outputs": [],
   "source": [
    "import boto3\n",
    "import statistics\n",
    "from matplotlib import pyplot as plt\n",
    "import numpy as np\n",
    "import pandas as pd"
   ]
  },
  {
   "cell_type": "markdown",
   "metadata": {},
   "source": [
    "### Functions"
   ]
  },
  {
   "cell_type": "code",
   "execution_count": 16,
   "metadata": {},
   "outputs": [],
   "source": [
    "def get_epochs_for_tfjob(tfjob_name):\n",
    "    tfjob_epoch_objects = set()\n",
    "    client = boto3.client('s3', endpoint_url='https://s3.cern.ch')\n",
    "    for key in client.list_objects(Bucket='dejan')['Contents']:\n",
    "        if tfjob_name in key['Key']:\n",
    "            object_name = key['Key']\n",
    "            tfjob_epoch_objects.add(object_name)\n",
    "            \n",
    "    return tfjob_epoch_objects\n",
    "\n",
    "def parse_epoch_file(epoch_filename, client):\n",
    "    obj = client.get_object(Bucket='dejan', Key=epoch_filename)\n",
    "    lines = obj['Body'].read().decode()\n",
    "    lines_list = lines.split('\\n')\n",
    "\n",
    "    epoch_metrics = {}\n",
    "    epoch_metrics['batch_times'] = []\n",
    "    epoch_metrics['timestamp'] = epoch_filename[-23:-4]\n",
    "    for item in lines_list:\n",
    "        if item == '':\n",
    "            continue\n",
    "        \n",
    "        split_item = item.split('=')\n",
    "        metric_name = split_item[0]\n",
    "        metric_value = split_item[1]\n",
    "        \n",
    "        if 'time-batch' in metric_name:\n",
    "            epoch_metrics['batch_times'].append(metric_value)\n",
    "        else:\n",
    "            epoch_metrics[metric_name] = metric_value\n",
    "    \n",
    "    return epoch_metrics\n",
    "\n",
    "def filter_by(tfjob_info, name, filter_value):\n",
    "    res_dict = {}\n",
    "    for tfjob_id, tfjob_value in tfjob_info.items():\n",
    "        for key in tfjob_value.keys():\n",
    "            if key == name and tfjob_value[key] == filter_value:\n",
    "                res_dict[tfjob_id] = tfjob_value\n",
    "    \n",
    "    return res_dict\n",
    "\n",
    "def parse_tfjob_epoch_metrics(tfjobs_run_info, tfjob_ids, client):\n",
    "    for tfjob_id in tfjob_ids:\n",
    "        if not tfjob_id in tfjobs_run_info:\n",
    "            tfjobs_run_info[tfjob_id] = {}\n",
    "\n",
    "        tfjob_epochs = get_epochs_for_tfjob(tfjob_id)\n",
    "        tfjobs_run_info[tfjob_id]['epoch'] = {}\n",
    "        for epoch_filename in tfjob_epochs:\n",
    "            if 'params' in epoch_filename:\n",
    "                continue\n",
    "            \n",
    "            epoch_number = epoch_filename.split('epoch')[1].split('-')[1]\n",
    "            epoch_metrics = parse_epoch_file(epoch_filename, client)\n",
    "            \n",
    "            if 'batch-size-per-replica' in epoch_metrics.keys():\n",
    "                tfjobs_run_info[tfjob_id]['batch-size-per-replica'] = epoch_metrics['batch-size-per-replica']\n",
    "                del epoch_metrics['batch-size-per-replica']\n",
    "            if 'num_replicas_in_sync' in epoch_metrics.keys():\n",
    "                tfjobs_run_info[tfjob_id]['num_replicas_in_sync'] = epoch_metrics['num_replicas_in_sync']\n",
    "                del epoch_metrics['num_replicas_in_sync']\n",
    "            if 'n_workers' in epoch_metrics.keys():\n",
    "                tfjobs_run_info[tfjob_id]['n_workers'] = epoch_metrics['n_workers']\n",
    "                del epoch_metrics['n_workers']\n",
    "            \n",
    "            tfjobs_run_info[tfjob_id]['epoch'][epoch_number] = epoch_metrics\n",
    "            \n",
    "def get_metrics(tfjobs_run_info, metric_name):\n",
    "    metrics = []\n",
    "    for tfjob_id, tfjob_value in tfjobs_run_info.items():\n",
    "        metrics_job = []\n",
    "        for epoch_index in sorted(tfjob_value['epoch'].keys()):\n",
    "            metrics_job.append(tfjob_value['epoch'][epoch_index][metric_name])\n",
    "        metrics.append(metrics_job)\n",
    "        \n",
    "    return metrics\n",
    "\n",
    "def get_metrics_for_job(tfjobs_run_info, tfjob_id, metric_name):\n",
    "    metrics = []\n",
    "\n",
    "    for epoch_index in sorted(tfjobs_run_info[tfjob_id]['epoch'].keys()):\n",
    "        metrics.append(tfjobs_run_info[tfjob_id]['epoch'][epoch_index][metric_name])\n",
    "        \n",
    "    return metrics\n",
    "\n",
    "def get_average_from_index(lst, from_index=0):\n",
    "    float_list = []\n",
    "    for el in lst:\n",
    "        float_list.append(float(el))\n",
    "    return statistics.mean(float_list[from_index:])\n",
    "\n",
    "def make_json_single_layer(job_id, json_record):\n",
    "    result = {}\n",
    "    result['bucket_id'] = job_id\n",
    "    for key, value in json_record[job_id].items():\n",
    "        if key == 'epoch':\n",
    "            continue\n",
    "        result[key] = value\n",
    "    \n",
    "    result['n_epochs'] = len(json_record[job_id]['epoch'].keys())\n",
    "    total_train_time = 0\n",
    "    total_test_time = 0\n",
    "    \n",
    "    for epoch_n in sorted(json_record[job_id]['epoch'].keys()):\n",
    "        epoch_res = json_record[job_id]['epoch'][epoch_n]\n",
    "        if int(epoch_n) != 0:\n",
    "            total_train_time += float(json_record[job_id]['epoch'][epoch_n]['train-epoch-time'])\n",
    "            total_test_time += float(json_record[job_id]['epoch'][epoch_n]['test-epoch-time'])\n",
    "            \n",
    "        for metric_name, metric_value in epoch_res.items():\n",
    "            single_layer_key = 'epoch-' + str(epoch_n) + '_' + metric_name\n",
    "            result[single_layer_key] = metric_value\n",
    "    \n",
    "    result['average_train_time'] = round(total_train_time / (int(result['n_epochs']) - 1), 2)\n",
    "    result['average_test_time'] = round(total_test_time / (int(result['n_epochs']) - 1), 2)\n",
    "    \n",
    "    result_refined = {}\n",
    "    for key, value in result.items():\n",
    "        new_key = key.replace('-', '_')\n",
    "        result_refined[new_key] = value\n",
    "    \n",
    "    return result_refined\n",
    "\n",
    "def make_job_list_single_layer(job_dict):\n",
    "    result = []\n",
    "    for job_id in job_dict.keys():\n",
    "        json_single_layer = make_json_single_layer(job_id, job_dict)\n",
    "        result.append(json_single_layer)\n",
    "    return result\n",
    "\n",
    "def convert_json_to_pandas(json_record):\n",
    "    json_single_layer = make_job_list_single_layer(json_record)\n",
    "    df = pd.DataFrame(json_single_layer)\n",
    "    return df"
   ]
  },
  {
   "cell_type": "markdown",
   "metadata": {},
   "source": [
    "### Read Current"
   ]
  },
  {
   "cell_type": "code",
   "execution_count": 10,
   "metadata": {},
   "outputs": [],
   "source": [
    "def get_tfjob_ids(client):\n",
    "    tfjob_ids = set()\n",
    "    client = boto3.client('s3', endpoint_url='https://s3.cern.ch')\n",
    "    for key in client.list_objects(Bucket='dejan')['Contents']:\n",
    "        if 'tfjob-id' in key['Key'] and ('12-16' in key['Key']):\n",
    "            object_name = key['Key']\n",
    "            tf_job_id = object_name[9:45]\n",
    "            tfjob_ids.add(tf_job_id)\n",
    "            \n",
    "    return tfjob_ids\n",
    "\n",
    "def read_job():\n",
    "    client = boto3.client('s3', endpoint_url='https://s3.cern.ch')\n",
    "    tfjobs_run_info = {}\n",
    "    tfjob_ids = get_tfjob_ids(client)\n",
    "    parse_tfjob_epoch_metrics(tfjobs_run_info, tfjob_ids, client)\n",
    "    print(len(tfjobs_run_info.keys()))\n",
    "    \n",
    "    return tfjobs_run_info"
   ]
  },
  {
   "cell_type": "code",
   "execution_count": 11,
   "metadata": {},
   "outputs": [],
   "source": [
    "def add_jobs_info(jobs, key, value):\n",
    "    for job_key in jobs.keys():\n",
    "        jobs[job_key][key] = value"
   ]
  },
  {
   "cell_type": "markdown",
   "metadata": {},
   "source": [
    "### Script"
   ]
  },
  {
   "cell_type": "code",
   "execution_count": 29,
   "metadata": {},
   "outputs": [
    {
     "name": "stdout",
     "output_type": "stream",
     "text": [
      "1\n",
      "1\n",
      "dict_keys(['8bfd84c0-1af3-4286-b4b9-06a35ec16542'])\n"
     ]
    }
   ],
   "source": [
    "current_jobs = read_job()\n",
    "print(len(current_jobs))\n",
    "print(current_jobs.keys())"
   ]
  },
  {
   "cell_type": "code",
   "execution_count": 30,
   "metadata": {},
   "outputs": [],
   "source": [
    "add_jobs_info(current_jobs, 'device', 'gpu-v100')\n",
    "add_jobs_info(current_jobs, 'prefetch', 'yes')\n",
    "add_jobs_info(current_jobs, 'cache', 'no')\n",
    "add_jobs_info(current_jobs, 'nodes', '4')\n",
    "add_jobs_info(current_jobs, 'gpus_per_node', '4')"
   ]
  },
  {
   "cell_type": "code",
   "execution_count": 31,
   "metadata": {},
   "outputs": [
    {
     "name": "stdout",
     "output_type": "stream",
     "text": [
      "1212\n"
     ]
    }
   ],
   "source": [
    "df_current_jobs = convert_json_to_pandas(current_jobs)\n",
    "print(len(df_current_jobs.columns))"
   ]
  },
  {
   "cell_type": "markdown",
   "metadata": {},
   "source": [
    "### Plot Metrics"
   ]
  },
  {
   "cell_type": "code",
   "execution_count": 32,
   "metadata": {},
   "outputs": [],
   "source": [
    "def get_metrics_for_all_epochs(df, metrics):\n",
    "    columns = [x for x in df.columns if metrics in x]\n",
    "    filtered_df = df[columns]\n",
    "    return filtered_df"
   ]
  },
  {
   "cell_type": "code",
   "execution_count": 39,
   "metadata": {},
   "outputs": [],
   "source": [
    "metrics = 'generator_train_binary_loss'\n",
    "all_jobs_df = df_current_jobs\n",
    "filtered_df = get_metrics_for_all_epochs(all_jobs_df, metrics)"
   ]
  },
  {
   "cell_type": "code",
   "execution_count": 40,
   "metadata": {},
   "outputs": [
    {
     "data": {
      "image/png": "[encoded data removed]",
      "text/plain": [
       "<Figure size 432x288 with 1 Axes>"
      ]
     },
     "metadata": {
      "needs_background": "light"
     },
     "output_type": "display_data"
    }
   ],
   "source": [
    "row = list(filtered_df.iloc[0].astype(float))\n",
    "plt.plot(row)\n",
    "plt.title(metrics)\n",
    "plt.xlabel('Epoch Number')\n",
    "plt.ylabel('Loss')\n",
    "plt.savefig('results/' + metrics + '_after_' + str(len(row)) + '_epochs', dpi=150)\n",
    "plt.show()\n",
    "#filtered_df"
   ]
  },
  {
   "cell_type": "code",
   "execution_count": null,
   "metadata": {},
   "outputs": [],
   "source": [
    "total = 124987\n",
    "print((124987 % 16) / 124987 * 100 * 32)\n",
    "print((124987 % 32) / 124987 * 100 * 32)\n",
    "print((124987 % 48) / 124987 * 100 * 32)\n",
    "print((124987 % 64) / 124987 * 100 * 32)\n",
    "print((124987 % 80) / 124987 * 100 * 32)\n",
    "print((124987 % (96*128)) / 124987 * 100)"
   ]
  },
  {
   "cell_type": "raw",
   "metadata": {},
   "source": [
    "all_jobs_df = pd.read_csv('tfjobs_runs.csv')\n",
    "print(len(all_jobs_df))\n",
    "all_jobs_df = all_jobs_df.append([df_current_jobs])\n",
    "all_jobs_df.index = np.arange(1, len(all_jobs_df) + 1)\n",
    "print(len(all_jobs_df))\n",
    "all_jobs_df['num_replicas_in_sync'] = all_jobs_df['num_replicas_in_sync'].astype(str)\n",
    "all_jobs_df['batch_size_per_replica'] = all_jobs_df['batch_size_per_replica'].astype(str)\n",
    "\n",
    "reduced = all_jobs_df[['device','num_replicas_in_sync','n_workers','prefetch','cache','batch_size_per_replica',\n",
    "                       'average_train_time','average_test_time','nodes','gpus_per_node']]\n",
    "reduced\n",
    "all_jobs_df.to_csv('tfjobs_runs.csv', index=False)\n",
    "reduced.to_csv('tfjobs_runs_reduced.csv', index=False)\n"
   ]
  }
 ],
 "metadata": {
  "kernelspec": {
   "display_name": "Python 3",
   "language": "python",
   "name": "python3"
  },
  "language_info": {
   "codemirror_mode": {
    "name": "ipython",
    "version": 3
   },
   "file_extension": ".py",
   "mimetype": "text/x-python",
   "name": "python",
   "nbconvert_exporter": "python",
   "pygments_lexer": "ipython3",
   "version": "3.6.5"
  }
 },
 "nbformat": 4,
 "nbformat_minor": 4
}
